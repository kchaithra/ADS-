{
 "cells": [
  {
   "cell_type": "code",
   "execution_count": 1,
   "id": "2be2876c",
   "metadata": {},
   "outputs": [
    {
     "name": "stderr",
     "output_type": "stream",
     "text": [
      "[nltk_data] Downloading package punkt to\n",
      "[nltk_data]     C:\\Users\\Chaithra.k\\AppData\\Roaming\\nltk_data...\n",
      "[nltk_data]   Package punkt is already up-to-date!\n",
      "[nltk_data] Downloading package averaged_perceptron_tagger to\n",
      "[nltk_data]     C:\\Users\\Chaithra.k\\AppData\\Roaming\\nltk_data...\n",
      "[nltk_data]   Package averaged_perceptron_tagger is already up-to-\n",
      "[nltk_data]       date!\n",
      "[nltk_data] Downloading package maxent_ne_chunker to\n",
      "[nltk_data]     C:\\Users\\Chaithra.k\\AppData\\Roaming\\nltk_data...\n",
      "[nltk_data]   Package maxent_ne_chunker is already up-to-date!\n",
      "[nltk_data] Downloading package words to\n",
      "[nltk_data]     C:\\Users\\Chaithra.k\\AppData\\Roaming\\nltk_data...\n",
      "[nltk_data]   Package words is already up-to-date!\n"
     ]
    }
   ],
   "source": [
    "import nltk\n",
    "from nltk import word_tokenize, pos_tag, ne_chunk\n",
    "from nltk.chunk import tree2conlltags\n",
    "\n",
    "# Download NLTK resources (if not already downloaded)\n",
    "nltk.download('punkt')\n",
    "nltk.download('averaged_perceptron_tagger')\n",
    "nltk.download('maxent_ne_chunker')\n",
    "nltk.download('words')\n",
    "\n",
    "# Function to map NLTK's generic NE labels to more specific types\n",
    "def map_labels(ne_tree):\n",
    "    ne_mapping = {\n",
    "        'PERSON': 'PERSON',\n",
    "        'ORGANIZATION': 'ORGANIZATION',\n",
    "        'GPE': 'LOCATION'\n",
    "    }\n",
    "    for subtree in ne_tree:\n",
    "        if type(subtree) == nltk.tree.Tree:\n",
    "            label = subtree.label()\n",
    "            if label in ne_mapping:\n",
    "                yield ' '.join([word for word, pos in subtree.leaves()]), ne_mapping[label]\n",
    "\n",
    "# Function to perform Named Entity Recognition\n",
    "def recognize_entities(input_file, output_file):\n",
    "    with open(input_file, 'r') as f:\n",
    "        text = f.read()\n",
    "\n",
    "    # Tokenize the text and perform part-of-speech tagging\n",
    "    words = word_tokenize(text)\n",
    "    tagged_words = pos_tag(words)\n",
    "\n",
    "    # Perform Named Entity Recognition and map labels\n",
    "    ne_tree = ne_chunk(tagged_words)\n",
    "    entities = list(map_labels(ne_tree))\n",
    "\n",
    "    # Write recognized entities to the output file\n",
    "    with open(output_file, 'w') as f:\n",
    "        for entity, entity_type in entities:\n",
    "            f.write(f\"Entity: {entity}, Type: {entity_type}\\n\")\n",
    "\n",
    "# Input and output file paths\n",
    "input_file = 'C:\\\\Users\\\\Chaithra.k\\\\OneDrive\\\\Desktop\\\\input_text.txt'  # Update with your input file path\n",
    "output_file = 'C:\\\\Users\\\\Chaithra.k\\\\OneDrive\\\\Desktop\\\\output_entities.txt'  # Update with your output file path\n",
    "\n",
    "# Call the function to recognize entities\n",
    "recognize_entities(input_file, output_file)\n"
   ]
  },
  {
   "cell_type": "code",
   "execution_count": null,
   "id": "2def179c",
   "metadata": {},
   "outputs": [],
   "source": []
  }
 ],
 "metadata": {
  "kernelspec": {
   "display_name": "Python 3 (ipykernel)",
   "language": "python",
   "name": "python3"
  },
  "language_info": {
   "codemirror_mode": {
    "name": "ipython",
    "version": 3
   },
   "file_extension": ".py",
   "mimetype": "text/x-python",
   "name": "python",
   "nbconvert_exporter": "python",
   "pygments_lexer": "ipython3",
   "version": "3.10.9"
  }
 },
 "nbformat": 4,
 "nbformat_minor": 5
}
